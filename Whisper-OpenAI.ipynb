{
 "cells": [
  {
   "cell_type": "markdown",
   "source": [
    "# Whisper de OpenAI"
   ],
   "metadata": {
    "collapsed": false
   }
  },
  {
   "cell_type": "code",
   "execution_count": 1,
   "outputs": [],
   "source": [
    "import whisper\n",
    "import os\n",
    "\n",
    "os.chdir(r\"C:\\Users\\Orlando Andrade\\Documents\\test\")"
   ],
   "metadata": {
    "collapsed": false
   }
  },
  {
   "cell_type": "code",
   "execution_count": 6,
   "outputs": [],
   "source": [
    "%%capture\n",
    "# Set up del modelo\n",
    "modelo = whisper.load_model(\"medium\")\n",
    "modelo"
   ],
   "metadata": {
    "collapsed": false
   }
  },
  {
   "cell_type": "code",
   "execution_count": 4,
   "outputs": [],
   "source": [
    "resutl = modelo.transcribe(audio=r\"C:\\Users\\Orlando Andrade\\Documents\\test\\test_2.wav\", fp16=False)"
   ],
   "metadata": {
    "collapsed": false
   }
  },
  {
   "cell_type": "code",
   "execution_count": 5,
   "outputs": [
    {
     "data": {
      "text/plain": "' No seas mamón whisper que puedes hacer estas transcripciones de texto. A ver, te voy a poner algo más difícil. El otro día andaba por allá por la sierra y de repente se cayó un árbol y pues ahí juntamos unas manzanas que estaban en el suelo.'"
     },
     "execution_count": 5,
     "metadata": {},
     "output_type": "execute_result"
    }
   ],
   "source": [
    "resutl[\"text\"]"
   ],
   "metadata": {
    "collapsed": false
   }
  }
 ],
 "metadata": {
  "kernelspec": {
   "display_name": "Python 3",
   "language": "python",
   "name": "python3"
  },
  "language_info": {
   "codemirror_mode": {
    "name": "ipython",
    "version": 2
   },
   "file_extension": ".py",
   "mimetype": "text/x-python",
   "name": "python",
   "nbconvert_exporter": "python",
   "pygments_lexer": "ipython2",
   "version": "2.7.6"
  }
 },
 "nbformat": 4,
 "nbformat_minor": 0
}
